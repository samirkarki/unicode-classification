{
  "cells": [
    {
      "cell_type": "markdown",
      "metadata": {
        "id": "view-in-github",
        "colab_type": "text"
      },
      "source": [
        "<a href=\"https://colab.research.google.com/github/samirkarki/unicode-classification/blob/main/Unicode_Classification.ipynb\" target=\"_parent\"><img src=\"https://colab.research.google.com/assets/colab-badge.svg\" alt=\"Open In Colab\"/></a>"
      ]
    },
    {
      "cell_type": "code",
      "execution_count": null,
      "metadata": {
        "id": "GZQE81e0SvsG"
      },
      "outputs": [],
      "source": [
        "# Description: This program uses CNN to classify handwritten digits as क-ज्ञ and ०-९"
      ]
    },
    {
      "cell_type": "code",
      "execution_count": 8,
      "metadata": {
        "id": "KyS8nOfgXni8"
      },
      "outputs": [],
      "source": [
        "#import the library\n",
        "from tensorflow.keras.models import Sequential\n",
        "from tensorflow.keras.layers import Dense, Conv2D, MaxPooling2D, Flatten\n",
        "from tensorflow.keras.datasets import mnist, _sys\n",
        "from tensorflow.keras.utils import to_categorical\n",
        "from tensorflow.keras.preprocessing.image import ImageDataGenerator\n",
        "from tensorflow.keras.optimizers import Adam\n",
        "import matplotlib.pyplot as plt\n",
        "import numpy as np\n",
        "import os\n",
        "import glob\n"
      ]
    },
    {
      "cell_type": "code",
      "source": [
        "BATCH_SIZE = 100\n",
        "IMG_SHAPE = 32\n",
        "EPOCHS = 50\n"
      ],
      "metadata": {
        "id": "rm6gJuBskXIe"
      },
      "execution_count": 33,
      "outputs": []
    },
    {
      "cell_type": "code",
      "execution_count": null,
      "metadata": {
        "id": "RnlzszTdZfoK"
      },
      "outputs": [],
      "source": [
        "#load data and split into train and test sets\n",
        "# for devnagari use this dataset \n",
        "# https://archive.ics.uci.edu/ml/machine-learning-databases/00389/DevanagariHandwrittenCharacterDataset.zip\n"
      ]
    },
    {
      "cell_type": "code",
      "source": [
        "from google.colab import drive\n",
        "drive.mount('/content/drive')"
      ],
      "metadata": {
        "colab": {
          "base_uri": "https://localhost:8080/"
        },
        "id": "7_xBf0pd5DZs",
        "outputId": "a4ada904-cada-49c7-c5c0-85b030f160f0"
      },
      "execution_count": null,
      "outputs": [
        {
          "output_type": "stream",
          "name": "stdout",
          "text": [
            "Drive already mounted at /content/drive; to attempt to forcibly remount, call drive.mount(\"/content/drive\", force_remount=True).\n"
          ]
        }
      ]
    },
    {
      "cell_type": "code",
      "source": [
        "base_dir = '/content/DevanagariHandwrittenCharacterDataset'\n",
        "#!unzip '/content/drive/MyDrive/DevanagariHandwrittenCharacterDataset.zip'"
      ],
      "metadata": {
        "id": "Ld_qtDCoeTDc"
      },
      "execution_count": 15,
      "outputs": []
    },
    {
      "cell_type": "code",
      "source": [
        "\n",
        "train_dir = os.path.join(base_dir, 'Train')\n",
        "test_dir = os.path.join(base_dir, 'Test')\n",
        "\n",
        "print(train_dir)\n",
        "\n",
        "train_labels_num = len(os.listdir(train_dir))\n",
        "test_labels_num = len(os.listdir(test_dir))\n",
        "\n",
        "print(train_labels_num)\n",
        "print(test_labels_num)\n"
      ],
      "metadata": {
        "colab": {
          "base_uri": "https://localhost:8080/"
        },
        "id": "nl5PMY4DentV",
        "outputId": "60f7b9d7-cb4a-4908-a3f7-fadb8d460be3"
      },
      "execution_count": 16,
      "outputs": [
        {
          "output_type": "stream",
          "name": "stdout",
          "text": [
            "/content/DevanagariHandwrittenCharacterDataset/Train\n",
            "46\n",
            "46\n"
          ]
        }
      ]
    },
    {
      "cell_type": "code",
      "source": [
        "class_folders = sorted(glob.glob(train_dir+'/*'))\n",
        "print(class_folders)\n",
        "classes = []\n",
        "for i in class_folders:\n",
        "  classes.append(i.split(\"_\")[-1])\n",
        "classes"
      ],
      "metadata": {
        "colab": {
          "base_uri": "https://localhost:8080/"
        },
        "id": "f3NMB7KUIhd2",
        "outputId": "cf4e85de-b56b-4b62-8e42-687969ced01f"
      },
      "execution_count": 22,
      "outputs": [
        {
          "output_type": "stream",
          "name": "stdout",
          "text": [
            "['/content/DevanagariHandwrittenCharacterDataset/Train/character_10_yna', '/content/DevanagariHandwrittenCharacterDataset/Train/character_11_taamatar', '/content/DevanagariHandwrittenCharacterDataset/Train/character_12_thaa', '/content/DevanagariHandwrittenCharacterDataset/Train/character_13_daa', '/content/DevanagariHandwrittenCharacterDataset/Train/character_14_dhaa', '/content/DevanagariHandwrittenCharacterDataset/Train/character_15_adna', '/content/DevanagariHandwrittenCharacterDataset/Train/character_16_tabala', '/content/DevanagariHandwrittenCharacterDataset/Train/character_17_tha', '/content/DevanagariHandwrittenCharacterDataset/Train/character_18_da', '/content/DevanagariHandwrittenCharacterDataset/Train/character_19_dha', '/content/DevanagariHandwrittenCharacterDataset/Train/character_1_ka', '/content/DevanagariHandwrittenCharacterDataset/Train/character_20_na', '/content/DevanagariHandwrittenCharacterDataset/Train/character_21_pa', '/content/DevanagariHandwrittenCharacterDataset/Train/character_22_pha', '/content/DevanagariHandwrittenCharacterDataset/Train/character_23_ba', '/content/DevanagariHandwrittenCharacterDataset/Train/character_24_bha', '/content/DevanagariHandwrittenCharacterDataset/Train/character_25_ma', '/content/DevanagariHandwrittenCharacterDataset/Train/character_26_yaw', '/content/DevanagariHandwrittenCharacterDataset/Train/character_27_ra', '/content/DevanagariHandwrittenCharacterDataset/Train/character_28_la', '/content/DevanagariHandwrittenCharacterDataset/Train/character_29_waw', '/content/DevanagariHandwrittenCharacterDataset/Train/character_2_kha', '/content/DevanagariHandwrittenCharacterDataset/Train/character_30_motosaw', '/content/DevanagariHandwrittenCharacterDataset/Train/character_31_petchiryakha', '/content/DevanagariHandwrittenCharacterDataset/Train/character_32_patalosaw', '/content/DevanagariHandwrittenCharacterDataset/Train/character_33_ha', '/content/DevanagariHandwrittenCharacterDataset/Train/character_34_chhya', '/content/DevanagariHandwrittenCharacterDataset/Train/character_35_tra', '/content/DevanagariHandwrittenCharacterDataset/Train/character_36_gya', '/content/DevanagariHandwrittenCharacterDataset/Train/character_3_ga', '/content/DevanagariHandwrittenCharacterDataset/Train/character_4_gha', '/content/DevanagariHandwrittenCharacterDataset/Train/character_5_kna', '/content/DevanagariHandwrittenCharacterDataset/Train/character_6_cha', '/content/DevanagariHandwrittenCharacterDataset/Train/character_7_chha', '/content/DevanagariHandwrittenCharacterDataset/Train/character_8_ja', '/content/DevanagariHandwrittenCharacterDataset/Train/character_9_jha', '/content/DevanagariHandwrittenCharacterDataset/Train/digit_0', '/content/DevanagariHandwrittenCharacterDataset/Train/digit_1', '/content/DevanagariHandwrittenCharacterDataset/Train/digit_2', '/content/DevanagariHandwrittenCharacterDataset/Train/digit_3', '/content/DevanagariHandwrittenCharacterDataset/Train/digit_4', '/content/DevanagariHandwrittenCharacterDataset/Train/digit_5', '/content/DevanagariHandwrittenCharacterDataset/Train/digit_6', '/content/DevanagariHandwrittenCharacterDataset/Train/digit_7', '/content/DevanagariHandwrittenCharacterDataset/Train/digit_8', '/content/DevanagariHandwrittenCharacterDataset/Train/digit_9']\n"
          ]
        },
        {
          "output_type": "execute_result",
          "data": {
            "text/plain": [
              "['yna',\n",
              " 'taamatar',\n",
              " 'thaa',\n",
              " 'daa',\n",
              " 'dhaa',\n",
              " 'adna',\n",
              " 'tabala',\n",
              " 'tha',\n",
              " 'da',\n",
              " 'dha',\n",
              " 'ka',\n",
              " 'na',\n",
              " 'pa',\n",
              " 'pha',\n",
              " 'ba',\n",
              " 'bha',\n",
              " 'ma',\n",
              " 'yaw',\n",
              " 'ra',\n",
              " 'la',\n",
              " 'waw',\n",
              " 'kha',\n",
              " 'motosaw',\n",
              " 'petchiryakha',\n",
              " 'patalosaw',\n",
              " 'ha',\n",
              " 'chhya',\n",
              " 'tra',\n",
              " 'gya',\n",
              " 'ga',\n",
              " 'gha',\n",
              " 'kna',\n",
              " 'cha',\n",
              " 'chha',\n",
              " 'ja',\n",
              " 'jha',\n",
              " '0',\n",
              " '1',\n",
              " '2',\n",
              " '3',\n",
              " '4',\n",
              " '5',\n",
              " '6',\n",
              " '7',\n",
              " '8',\n",
              " '9']"
            ]
          },
          "metadata": {},
          "execution_count": 22
        }
      ]
    },
    {
      "cell_type": "code",
      "source": [
        "def plotImages(images_arr):\n",
        "    fig, axes = plt.subplots(1, 5, figsize=(30,20))\n",
        "    axes = axes.flatten()\n",
        "    for img, ax in zip(images_arr, axes):\n",
        "        ax.imshow(img)\n",
        "        print(img.shape)\n",
        "    plt.tight_layout()\n",
        "    plt.show()"
      ],
      "metadata": {
        "id": "2EyLMchkkttm"
      },
      "execution_count": 23,
      "outputs": []
    },
    {
      "cell_type": "code",
      "source": [
        "#Image augmentation\n",
        "image_gen_train = ImageDataGenerator(\n",
        "      rescale=1./255,\n",
        "      rotation_range=40,\n",
        "      fill_mode='nearest')\n",
        "\n",
        "train_data_gen = image_gen_train.flow_from_directory(batch_size=BATCH_SIZE,\n",
        "                                               directory=train_dir,\n",
        "                                               shuffle=True,\n",
        "                                               target_size=(IMG_SHAPE,IMG_SHAPE))"
      ],
      "metadata": {
        "colab": {
          "base_uri": "https://localhost:8080/"
        },
        "id": "s4AWkzXskIU7",
        "outputId": "629cc195-1e17-41d6-83c5-3ab0f4782591"
      },
      "execution_count": 24,
      "outputs": [
        {
          "output_type": "stream",
          "name": "stdout",
          "text": [
            "Found 78200 images belonging to 46 classes.\n"
          ]
        }
      ]
    },
    {
      "cell_type": "code",
      "source": [
        "augmented_images = [train_data_gen[0][0][0] for i in range(5)]\n",
        "plotImages(augmented_images)"
      ],
      "metadata": {
        "colab": {
          "base_uri": "https://localhost:8080/",
          "height": 275
        },
        "id": "ZhW5RRxKkm1u",
        "outputId": "67f7153a-7b89-4151-877a-30948edf4ecf"
      },
      "execution_count": 25,
      "outputs": [
        {
          "output_type": "stream",
          "name": "stdout",
          "text": [
            "(32, 32, 3)\n",
            "(32, 32, 3)\n",
            "(32, 32, 3)\n",
            "(32, 32, 3)\n",
            "(32, 32, 3)\n"
          ]
        },
        {
          "output_type": "display_data",
          "data": {
            "text/plain": [
              "<Figure size 2160x1440 with 5 Axes>"
            ],
            "image/png": "[encoded data removed]"
          },
          "metadata": {
            "needs_background": "light"
          }
        }
      ]
    },
    {
      "cell_type": "code",
      "source": [
        "#Image augmentation\n",
        "image_gen_test = ImageDataGenerator(rescale=1./255)\n",
        "\n",
        "validation_data_gen = image_gen_test.flow_from_directory(batch_size=BATCH_SIZE,\n",
        "                                               directory=test_dir,\n",
        "                                               shuffle=False,\n",
        "                                               target_size=(IMG_SHAPE,IMG_SHAPE),\n",
        "                                               class_mode='categorical')"
      ],
      "metadata": {
        "colab": {
          "base_uri": "https://localhost:8080/"
        },
        "id": "TcmRaxlUlOvj",
        "outputId": "77c3e67f-d1d1-4bee-a072-00c474454b34"
      },
      "execution_count": 26,
      "outputs": [
        {
          "output_type": "stream",
          "name": "stdout",
          "text": [
            "Found 13800 images belonging to 46 classes.\n"
          ]
        }
      ]
    },
    {
      "cell_type": "code",
      "source": [
        "augmented_images = [validation_data_gen[0][0][0] for i in range(5)]\n",
        "plotImages(augmented_images)"
      ],
      "metadata": {
        "colab": {
          "base_uri": "https://localhost:8080/",
          "height": 275
        },
        "id": "G1o7Xd9blldO",
        "outputId": "09ca3e9f-fc16-4e51-bf81-4ef21c7148c7"
      },
      "execution_count": 28,
      "outputs": [
        {
          "output_type": "stream",
          "name": "stdout",
          "text": [
            "(32, 32, 3)\n",
            "(32, 32, 3)\n",
            "(32, 32, 3)\n",
            "(32, 32, 3)\n",
            "(32, 32, 3)\n"
          ]
        },
        {
          "output_type": "display_data",
          "data": {
            "text/plain": [
              "<Figure size 2160x1440 with 5 Axes>"
            ],
            "image/png": "[encoded data removed]"
          },
          "metadata": {
            "needs_background": "light"
          }
        }
      ]
    },
    {
      "cell_type": "code",
      "execution_count": null,
      "metadata": {
        "id": "UdqULlyLbl1w",
        "colab": {
          "base_uri": "https://localhost:8080/"
        },
        "outputId": "2255c877-6a2b-4317-e8fb-df4790035471"
      },
      "outputs": [
        {
          "output_type": "execute_result",
          "data": {
            "text/plain": [
              "array([ 0,  0,  0, ..., 45, 45, 45], dtype=int32)"
            ]
          },
          "metadata": {},
          "execution_count": 14
        }
      ],
      "source": [
        "# reshape the data to fit the model\n",
        "#X_train = X_train.reshape(60000, 28, 28, 1)\n",
        "#X_test = X_test.reshape(10000, 28, 28, 1)\n",
        "train_data_gen.classes"
      ]
    },
    {
      "cell_type": "code",
      "execution_count": null,
      "metadata": {
        "id": "n5J5Rce3b5_t"
      },
      "outputs": [],
      "source": [
        "# one-hot encoding: \n",
        "#y_train_one_hot = to_categorical(y_train)\n",
        "#y_test_one_hot = to_categorical(y_test)\n",
        "\n",
        "#print the new label\n",
        "#print(y_train_one_hot)\n"
      ]
    },
    {
      "cell_type": "code",
      "execution_count": 29,
      "metadata": {
        "id": "JISIQDXXdlVG"
      },
      "outputs": [],
      "source": [
        "#build the cnn model\n",
        "model = Sequential()\n",
        "#add model layers\n",
        "model.add(Conv2D(64,kernel_size=3, activation='relu', input_shape=(IMG_SHAPE,IMG_SHAPE,3)))\n",
        "model.add(MaxPooling2D((2, 2)))\n",
        "model.add(Conv2D(32, kernel_size=3, activation='relu'))\n",
        "model.add(Flatten())\n",
        "model.add(Dense(train_labels_num, activation='softmax'))"
      ]
    },
    {
      "cell_type": "code",
      "execution_count": 30,
      "metadata": {
        "id": "wmmXpjQr2jFs"
      },
      "outputs": [],
      "source": [
        "# compile the model\n",
        "#opt = Adam(learning_rate=0.01)\n",
        "model.compile(optimizer='Adam', loss='categorical_crossentropy', metrics=['accuracy'])"
      ]
    },
    {
      "cell_type": "code",
      "execution_count": 31,
      "metadata": {
        "colab": {
          "base_uri": "https://localhost:8080/"
        },
        "id": "FVDPjhDh3Snh",
        "outputId": "93dd47a0-2ab0-402d-daeb-4e6325f4f054"
      },
      "outputs": [
        {
          "output_type": "stream",
          "name": "stdout",
          "text": [
            "Epoch 1/50\n",
            "782/782 [==============================] - 67s 72ms/step - loss: 0.9796 - accuracy: 0.7316 - val_loss: 0.3777 - val_accuracy: 0.8892\n",
            "Epoch 2/50\n",
            "782/782 [==============================] - 55s 70ms/step - loss: 0.3929 - accuracy: 0.8883 - val_loss: 0.2688 - val_accuracy: 0.9193\n",
            "Epoch 3/50\n",
            "782/782 [==============================] - 55s 70ms/step - loss: 0.2823 - accuracy: 0.9191 - val_loss: 0.2112 - val_accuracy: 0.9405\n",
            "Epoch 4/50\n",
            "782/782 [==============================] - 55s 70ms/step - loss: 0.2256 - accuracy: 0.9347 - val_loss: 0.1828 - val_accuracy: 0.9479\n",
            "Epoch 5/50\n",
            "782/782 [==============================] - 56s 71ms/step - loss: 0.1904 - accuracy: 0.9437 - val_loss: 0.1584 - val_accuracy: 0.9528\n",
            "Epoch 6/50\n",
            "782/782 [==============================] - 56s 72ms/step - loss: 0.1677 - accuracy: 0.9503 - val_loss: 0.1506 - val_accuracy: 0.9535\n",
            "Epoch 7/50\n",
            "782/782 [==============================] - 57s 73ms/step - loss: 0.1520 - accuracy: 0.9540 - val_loss: 0.1400 - val_accuracy: 0.9593\n",
            "Epoch 8/50\n",
            "782/782 [==============================] - 57s 73ms/step - loss: 0.1335 - accuracy: 0.9599 - val_loss: 0.1567 - val_accuracy: 0.9554\n",
            "Epoch 9/50\n",
            "782/782 [==============================] - 56s 72ms/step - loss: 0.1265 - accuracy: 0.9628 - val_loss: 0.1693 - val_accuracy: 0.9511\n",
            "Epoch 10/50\n",
            "782/782 [==============================] - 56s 72ms/step - loss: 0.1132 - accuracy: 0.9646 - val_loss: 0.1430 - val_accuracy: 0.9594\n",
            "Epoch 11/50\n",
            "782/782 [==============================] - 56s 72ms/step - loss: 0.1071 - accuracy: 0.9674 - val_loss: 0.1328 - val_accuracy: 0.9643\n",
            "Epoch 12/50\n",
            "782/782 [==============================] - 57s 72ms/step - loss: 0.0990 - accuracy: 0.9692 - val_loss: 0.1335 - val_accuracy: 0.9624\n",
            "Epoch 13/50\n",
            "782/782 [==============================] - 57s 73ms/step - loss: 0.0944 - accuracy: 0.9709 - val_loss: 0.1248 - val_accuracy: 0.9667\n",
            "Epoch 14/50\n",
            "782/782 [==============================] - 57s 73ms/step - loss: 0.0889 - accuracy: 0.9723 - val_loss: 0.1308 - val_accuracy: 0.9669\n",
            "Epoch 15/50\n",
            "782/782 [==============================] - 57s 73ms/step - loss: 0.0866 - accuracy: 0.9733 - val_loss: 0.1293 - val_accuracy: 0.9649\n",
            "Epoch 16/50\n",
            "782/782 [==============================] - 57s 73ms/step - loss: 0.0820 - accuracy: 0.9746 - val_loss: 0.1329 - val_accuracy: 0.9668\n",
            "Epoch 17/50\n",
            "782/782 [==============================] - 57s 73ms/step - loss: 0.0753 - accuracy: 0.9766 - val_loss: 0.1453 - val_accuracy: 0.9620\n",
            "Epoch 18/50\n",
            "782/782 [==============================] - 58s 74ms/step - loss: 0.0746 - accuracy: 0.9769 - val_loss: 0.1306 - val_accuracy: 0.9686\n",
            "Epoch 19/50\n",
            "782/782 [==============================] - 57s 73ms/step - loss: 0.0735 - accuracy: 0.9771 - val_loss: 0.1275 - val_accuracy: 0.9675\n",
            "Epoch 20/50\n",
            "782/782 [==============================] - 57s 73ms/step - loss: 0.0677 - accuracy: 0.9786 - val_loss: 0.1341 - val_accuracy: 0.9670\n",
            "Epoch 21/50\n",
            "782/782 [==============================] - 57s 73ms/step - loss: 0.0666 - accuracy: 0.9793 - val_loss: 0.1323 - val_accuracy: 0.9671\n",
            "Epoch 22/50\n",
            "782/782 [==============================] - 56s 72ms/step - loss: 0.0649 - accuracy: 0.9794 - val_loss: 0.1339 - val_accuracy: 0.9675\n",
            "Epoch 23/50\n",
            "782/782 [==============================] - 56s 72ms/step - loss: 0.0630 - accuracy: 0.9804 - val_loss: 0.1286 - val_accuracy: 0.9675\n",
            "Epoch 24/50\n",
            "782/782 [==============================] - 56s 71ms/step - loss: 0.0586 - accuracy: 0.9812 - val_loss: 0.1371 - val_accuracy: 0.9672\n",
            "Epoch 25/50\n",
            "782/782 [==============================] - 56s 72ms/step - loss: 0.0583 - accuracy: 0.9816 - val_loss: 0.1259 - val_accuracy: 0.9693\n",
            "Epoch 26/50\n",
            "782/782 [==============================] - 56s 71ms/step - loss: 0.0528 - accuracy: 0.9834 - val_loss: 0.1281 - val_accuracy: 0.9699\n",
            "Epoch 27/50\n",
            "782/782 [==============================] - 56s 72ms/step - loss: 0.0544 - accuracy: 0.9826 - val_loss: 0.1313 - val_accuracy: 0.9699\n",
            "Epoch 28/50\n",
            "782/782 [==============================] - 56s 71ms/step - loss: 0.0511 - accuracy: 0.9840 - val_loss: 0.1349 - val_accuracy: 0.9701\n",
            "Epoch 29/50\n",
            "782/782 [==============================] - 56s 71ms/step - loss: 0.0510 - accuracy: 0.9844 - val_loss: 0.1282 - val_accuracy: 0.9688\n",
            "Epoch 30/50\n",
            "782/782 [==============================] - 56s 72ms/step - loss: 0.0502 - accuracy: 0.9837 - val_loss: 0.1473 - val_accuracy: 0.9667\n",
            "Epoch 31/50\n",
            "782/782 [==============================] - 56s 71ms/step - loss: 0.0477 - accuracy: 0.9847 - val_loss: 0.1347 - val_accuracy: 0.9707\n",
            "Epoch 32/50\n",
            "782/782 [==============================] - 56s 72ms/step - loss: 0.0465 - accuracy: 0.9849 - val_loss: 0.1336 - val_accuracy: 0.9691\n",
            "Epoch 33/50\n",
            "782/782 [==============================] - 56s 71ms/step - loss: 0.0468 - accuracy: 0.9846 - val_loss: 0.1516 - val_accuracy: 0.9676\n",
            "Epoch 34/50\n",
            "782/782 [==============================] - 56s 71ms/step - loss: 0.0445 - accuracy: 0.9855 - val_loss: 0.1427 - val_accuracy: 0.9691\n",
            "Epoch 35/50\n",
            "782/782 [==============================] - 56s 72ms/step - loss: 0.0436 - accuracy: 0.9859 - val_loss: 0.1317 - val_accuracy: 0.9699\n",
            "Epoch 36/50\n",
            "782/782 [==============================] - 56s 72ms/step - loss: 0.0401 - accuracy: 0.9870 - val_loss: 0.1437 - val_accuracy: 0.9695\n",
            "Epoch 37/50\n",
            "782/782 [==============================] - 56s 72ms/step - loss: 0.0428 - accuracy: 0.9866 - val_loss: 0.1649 - val_accuracy: 0.9625\n",
            "Epoch 38/50\n",
            "782/782 [==============================] - 56s 72ms/step - loss: 0.0415 - accuracy: 0.9865 - val_loss: 0.1555 - val_accuracy: 0.9654\n",
            "Epoch 39/50\n",
            "782/782 [==============================] - 56s 71ms/step - loss: 0.0411 - accuracy: 0.9866 - val_loss: 0.1485 - val_accuracy: 0.9678\n",
            "Epoch 40/50\n",
            "782/782 [==============================] - 56s 71ms/step - loss: 0.0390 - accuracy: 0.9872 - val_loss: 0.1382 - val_accuracy: 0.9709\n",
            "Epoch 41/50\n",
            "782/782 [==============================] - 56s 71ms/step - loss: 0.0353 - accuracy: 0.9887 - val_loss: 0.1544 - val_accuracy: 0.9683\n",
            "Epoch 42/50\n",
            "782/782 [==============================] - 56s 71ms/step - loss: 0.0373 - accuracy: 0.9879 - val_loss: 0.1556 - val_accuracy: 0.9688\n",
            "Epoch 43/50\n",
            "782/782 [==============================] - 56s 71ms/step - loss: 0.0385 - accuracy: 0.9872 - val_loss: 0.1372 - val_accuracy: 0.9708\n",
            "Epoch 44/50\n",
            "782/782 [==============================] - 55s 71ms/step - loss: 0.0356 - accuracy: 0.9882 - val_loss: 0.1555 - val_accuracy: 0.9683\n",
            "Epoch 45/50\n",
            "782/782 [==============================] - 55s 70ms/step - loss: 0.0368 - accuracy: 0.9881 - val_loss: 0.1580 - val_accuracy: 0.9651\n",
            "Epoch 46/50\n",
            "782/782 [==============================] - 55s 70ms/step - loss: 0.0355 - accuracy: 0.9888 - val_loss: 0.1520 - val_accuracy: 0.9703\n",
            "Epoch 47/50\n",
            "782/782 [==============================] - 55s 71ms/step - loss: 0.0347 - accuracy: 0.9886 - val_loss: 0.1449 - val_accuracy: 0.9738\n",
            "Epoch 48/50\n",
            "782/782 [==============================] - 56s 72ms/step - loss: 0.0342 - accuracy: 0.9886 - val_loss: 0.1511 - val_accuracy: 0.9705\n",
            "Epoch 49/50\n",
            "782/782 [==============================] - 56s 72ms/step - loss: 0.0315 - accuracy: 0.9896 - val_loss: 0.1620 - val_accuracy: 0.9693\n",
            "Epoch 50/50\n",
            "782/782 [==============================] - 56s 71ms/step - loss: 0.0318 - accuracy: 0.9894 - val_loss: 0.1666 - val_accuracy: 0.9696\n"
          ]
        }
      ],
      "source": [
        "#train the model\n",
        "hist=model.fit(\n",
        "    train_data_gen,\n",
        "    steps_per_epoch = train_data_gen.samples // BATCH_SIZE,\n",
        "    epochs=EPOCHS,\n",
        "    validation_steps = validation_data_gen.samples // BATCH_SIZE,\n",
        "    validation_data=validation_data_gen)"
      ]
    },
    {
      "cell_type": "code",
      "execution_count": 34,
      "metadata": {
        "colab": {
          "base_uri": "https://localhost:8080/",
          "height": 295
        },
        "id": "iBvhNhkv8prY",
        "outputId": "7f13c2ff-aff9-45c7-9da0-e2df3bd41999"
      },
      "outputs": [
        {
          "output_type": "display_data",
          "data": {
            "text/plain": [
              "<Figure size 432x288 with 1 Axes>"
            ],
            "image/png": "[encoded data removed]"
          },
          "metadata": {
            "needs_background": "light"
          }
        }
      ],
      "source": [
        "#visualize the models accuracy\n",
        "plt.plot(hist.history['accuracy'])\n",
        "plt.plot(hist.history['val_accuracy'])\n",
        "plt.title('Model Accuracy')\n",
        "plt.ylabel('Accuracy')\n",
        "plt.xlabel('Epoch')\n",
        "plt.legend(['Train', 'Val'], loc ='upper left')\n",
        "plt.show()"
      ]
    },
    {
      "cell_type": "code",
      "execution_count": 35,
      "metadata": {
        "id": "aGPmqQ729j8V"
      },
      "outputs": [],
      "source": [
        "#show predictions as probabilities for the first 4 images in the test set\n",
        "eval_img, eval_label = next(validation_data_gen)\n",
        "predictions = model.predict(eval_img);"
      ]
    },
    {
      "cell_type": "code",
      "execution_count": 38,
      "metadata": {
        "colab": {
          "base_uri": "https://localhost:8080/"
        },
        "id": "lvp4JfQ4-M9I",
        "outputId": "e52e00af-796a-4470-8372-9b53fe03eae8"
      },
      "outputs": [
        {
          "output_type": "stream",
          "name": "stdout",
          "text": [
            "[ 0  0  0  0  0  0  0  0  0  0  0  0  0  0  0  0  0  0  0  0  0  0  0  0\n",
            "  0  0  0  0  0  0  0  0  0  0  0  0  0  0  0  0  0  0  0  0  0  0  0  0\n",
            "  0  0  0  0  0  0  0  0  0  0  0  0  0  0  0  0  0  0  0  0  0  0  0  0\n",
            "  0  0  0  0  0  0  0  0  0  0  0  0  0  0  0  0  0  0  0  0  0 34  0  0\n",
            "  0  0  0  0]\n",
            "[0 0 0 0 0 0 0 0 0 0 0 0 0 0 0 0 0 0 0 0 0 0 0 0 0 0 0 0 0 0 0 0 0 0 0 0 0\n",
            " 0 0 0 0 0 0 0 0 0 0 0 0 0 0 0 0 0 0 0 0 0 0 0 0 0 0 0 0 0 0 0 0 0 0 0 0 0\n",
            " 0 0 0 0 0 0 0 0 0 0 0 0 0 0 0 0 0 0 0 0 0 0 0 0 0 0]\n"
          ]
        }
      ],
      "source": [
        "#Print our predictions as number labels\n",
        "predicted_label = np.argmax(predictions, axis=1)\n",
        "actual_label = np.argmax(eval_label, axis=1) \n",
        "#print the actual labels\n",
        "print(predicted_label)\n",
        "print(actual_label)"
      ]
    },
    {
      "cell_type": "code",
      "source": [
        "print(classes)"
      ],
      "metadata": {
        "colab": {
          "base_uri": "https://localhost:8080/"
        },
        "id": "G252FwRJMdbC",
        "outputId": "e4c0339d-c10b-4125-d46d-12a437e5ae0a"
      },
      "execution_count": 36,
      "outputs": [
        {
          "output_type": "stream",
          "name": "stdout",
          "text": [
            "['yna', 'taamatar', 'thaa', 'daa', 'dhaa', 'adna', 'tabala', 'tha', 'da', 'dha', 'ka', 'na', 'pa', 'pha', 'ba', 'bha', 'ma', 'yaw', 'ra', 'la', 'waw', 'kha', 'motosaw', 'petchiryakha', 'patalosaw', 'ha', 'chhya', 'tra', 'gya', 'ga', 'gha', 'kna', 'cha', 'chha', 'ja', 'jha', '0', '1', '2', '3', '4', '5', '6', '7', '8', '9']\n"
          ]
        }
      ]
    },
    {
      "cell_type": "code",
      "execution_count": 40,
      "metadata": {
        "colab": {
          "base_uri": "https://localhost:8080/",
          "height": 1000
        },
        "id": "gLiZUCYr_NRe",
        "outputId": "ae2f48ce-d967-4c35-99b1-44dc56307684"
      },
      "outputs": [
        {
          "output_type": "stream",
          "name": "stdout",
          "text": [
            "predicted class:  yna\n",
            "actual class:  yna\n"
          ]
        },
        {
          "output_type": "display_data",
          "data": {
            "text/plain": [
              "<Figure size 432x288 with 1 Axes>"
            ],
            "image/png": "[encoded data removed]"
          },
          "metadata": {
            "needs_background": "light"
          }
        },
        {
          "output_type": "stream",
          "name": "stdout",
          "text": [
            "predicted class:  yna\n",
            "actual class:  yna\n"
          ]
        },
        {
          "output_type": "display_data",
          "data": {
            "text/plain": [
              "<Figure size 432x288 with 1 Axes>"
            ],
            "image/png": "[encoded data removed]"
          },
          "metadata": {
            "needs_background": "light"
          }
        },
        {
          "output_type": "stream",
          "name": "stdout",
          "text": [
            "predicted class:  yna\n",
            "actual class:  yna\n"
          ]
        },
        {
          "output_type": "display_data",
          "data": {
            "text/plain": [
              "<Figure size 432x288 with 1 Axes>"
            ],
            "image/png": "[encoded data removed]"
          },
          "metadata": {
            "needs_background": "light"
          }
        },
        {
          "output_type": "stream",
          "name": "stdout",
          "text": [
            "predicted class:  yna\n",
            "actual class:  yna\n"
          ]
        },
        {
          "output_type": "display_data",
          "data": {
            "text/plain": [
              "<Figure size 432x288 with 1 Axes>"
            ],
            "image/png": "[encoded data removed]"
          },
          "metadata": {
            "needs_background": "light"
          }
        },
        {
          "output_type": "stream",
          "name": "stdout",
          "text": [
            "predicted class:  yna\n",
            "actual class:  yna\n"
          ]
        },
        {
          "output_type": "display_data",
          "data": {
            "text/plain": [
              "<Figure size 432x288 with 1 Axes>"
            ],
            "image/png": "[encoded data removed]"
          },
          "metadata": {
            "needs_background": "light"
          }
        },
        {
          "output_type": "stream",
          "name": "stdout",
          "text": [
            "predicted class:  yna\n",
            "actual class:  yna\n"
          ]
        },
        {
          "output_type": "display_data",
          "data": {
            "text/plain": [
              "<Figure size 432x288 with 1 Axes>"
            ],
            "image/png": "[encoded data removed]"
          },
          "metadata": {
            "needs_background": "light"
          }
        },
        {
          "output_type": "stream",
          "name": "stdout",
          "text": [
            "predicted class:  yna\n",
            "actual class:  yna\n"
          ]
        },
        {
          "output_type": "display_data",
          "data": {
            "text/plain": [
              "<Figure size 432x288 with 1 Axes>"
            ],
            "image/png": "[encoded data removed]"
          },
          "metadata": {
            "needs_background": "light"
          }
        },
        {
          "output_type": "stream",
          "name": "stdout",
          "text": [
            "predicted class:  yna\n",
            "actual class:  yna\n"
          ]
        },
        {
          "output_type": "display_data",
          "data": {
            "text/plain": [
              "<Figure size 432x288 with 1 Axes>"
            ],
            "image/png": "[encoded data removed]"
          },
          "metadata": {
            "needs_background": "light"
          }
        },
        {
          "output_type": "stream",
          "name": "stdout",
          "text": [
            "predicted class:  yna\n",
            "actual class:  yna\n"
          ]
        },
        {
          "output_type": "display_data",
          "data": {
            "text/plain": [
              "<Figure size 432x288 with 1 Axes>"
            ],
            "image/png": "[encoded data removed]"
          },
          "metadata": {
            "needs_background": "light"
          }
        },
        {
          "output_type": "stream",
          "name": "stdout",
          "text": [
            "predicted class:  yna\n",
            "actual class:  yna\n"
          ]
        },
        {
          "output_type": "display_data",
          "data": {
            "text/plain": [
              "<Figure size 432x288 with 1 Axes>"
            ],
            "image/png": "[encoded data removed]"
          },
          "metadata": {
            "needs_background": "light"
          }
        }
      ],
      "source": [
        "#show first 10 images\n",
        "i = 0\n",
        "for img in eval_img[0:10]:\n",
        "  image =np.array(img, dtype='float')\n",
        "  #pixels = image.reshape(28,28)\n",
        "  plt.imshow(image)\n",
        "  print('predicted class: ', classes[predicted_label[i]])\n",
        "  print('actual class: ',classes[actual_label[i]])\n",
        "  i +=1\n",
        "  plt.show()"
      ]
    }
  ],
  "metadata": {
    "colab": {
      "collapsed_sections": [],
      "name": "Unicode_Classification.ipynb",
      "provenance": [],
      "include_colab_link": true
    },
    "kernelspec": {
      "display_name": "Python 3",
      "name": "python3"
    },
    "language_info": {
      "name": "python"
    },
    "accelerator": "GPU",
    "gpuClass": "standard"
  },
  "nbformat": 4,
  "nbformat_minor": 0
}
